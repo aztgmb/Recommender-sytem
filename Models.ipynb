{
  "nbformat": 4,
  "nbformat_minor": 0,
  "metadata": {
    "colab": {
      "name": "Models_Final.ipynb",
      "provenance": [],
      "collapsed_sections": []
    },
    "kernelspec": {
      "name": "python3",
      "display_name": "Python 3"
    },
    "accelerator": "GPU"
  },
  "cells": [
    {
      "cell_type": "code",
      "metadata": {
        "colab": {
          "base_uri": "https://localhost:8080/"
        },
        "id": "T6eHBju16S9B",
        "outputId": "273914bf-2360-412b-9c01-8212951d17ef"
      },
      "source": [
        "!pip install scikit-surprise \n",
        "!pip install lightfm\n",
        "from lightfm import LightFM\n",
        "import pandas as pd\n",
        "import numpy as np\n",
        "import seaborn as sns\n",
        "import random\n",
        "import matplotlib.pyplot as plt\n",
        "from scipy import sparse\n",
        "from sklearn.metrics.pairwise import cosine_similarity\n",
        "from sklearn.metrics import mean_squared_error\n",
        "from surprise import BaselineOnly\n",
        "from surprise import KNNBaseline\n",
        "from surprise import SVD\n",
        "from surprise import SVDpp\n",
        "from surprise import accuracy\n",
        "from surprise.model_selection import GridSearchCV\n",
        "from sklearn.model_selection import train_test_split"
      ],
      "execution_count": null,
      "outputs": [
        {
          "output_type": "stream",
          "text": [
            "Collecting scikit-surprise\n",
            "\u001b[?25l  Downloading https://files.pythonhosted.org/packages/97/37/5d334adaf5ddd65da99fc65f6507e0e4599d092ba048f4302fe8775619e8/scikit-surprise-1.1.1.tar.gz (11.8MB)\n",
            "\u001b[K     |████████████████████████████████| 11.8MB 245kB/s \n",
            "\u001b[?25hRequirement already satisfied: joblib>=0.11 in /usr/local/lib/python3.6/dist-packages (from scikit-surprise) (0.17.0)\n",
            "Requirement already satisfied: numpy>=1.11.2 in /usr/local/lib/python3.6/dist-packages (from scikit-surprise) (1.18.5)\n",
            "Requirement already satisfied: scipy>=1.0.0 in /usr/local/lib/python3.6/dist-packages (from scikit-surprise) (1.4.1)\n",
            "Requirement already satisfied: six>=1.10.0 in /usr/local/lib/python3.6/dist-packages (from scikit-surprise) (1.15.0)\n",
            "Building wheels for collected packages: scikit-surprise\n",
            "  Building wheel for scikit-surprise (setup.py) ... \u001b[?25l\u001b[?25hdone\n",
            "  Created wheel for scikit-surprise: filename=scikit_surprise-1.1.1-cp36-cp36m-linux_x86_64.whl size=1670933 sha256=e1dabcaac1d06397a3cfc112c5b03f13096f162e505c329d392d4b66039157d8\n",
            "  Stored in directory: /root/.cache/pip/wheels/78/9c/3d/41b419c9d2aff5b6e2b4c0fc8d25c538202834058f9ed110d0\n",
            "Successfully built scikit-surprise\n",
            "Installing collected packages: scikit-surprise\n",
            "Successfully installed scikit-surprise-1.1.1\n",
            "Collecting lightfm\n",
            "\u001b[?25l  Downloading https://files.pythonhosted.org/packages/5e/fe/8864d723daa8e5afc74080ce510c30f7ad52facf6a157d4b42dec83dfab4/lightfm-1.16.tar.gz (310kB)\n",
            "\u001b[K     |████████████████████████████████| 317kB 8.9MB/s \n",
            "\u001b[?25hRequirement already satisfied: numpy in /usr/local/lib/python3.6/dist-packages (from lightfm) (1.18.5)\n",
            "Requirement already satisfied: scipy>=0.17.0 in /usr/local/lib/python3.6/dist-packages (from lightfm) (1.4.1)\n",
            "Requirement already satisfied: requests in /usr/local/lib/python3.6/dist-packages (from lightfm) (2.23.0)\n",
            "Requirement already satisfied: scikit-learn in /usr/local/lib/python3.6/dist-packages (from lightfm) (0.22.2.post1)\n",
            "Requirement already satisfied: chardet<4,>=3.0.2 in /usr/local/lib/python3.6/dist-packages (from requests->lightfm) (3.0.4)\n",
            "Requirement already satisfied: idna<3,>=2.5 in /usr/local/lib/python3.6/dist-packages (from requests->lightfm) (2.10)\n",
            "Requirement already satisfied: certifi>=2017.4.17 in /usr/local/lib/python3.6/dist-packages (from requests->lightfm) (2020.12.5)\n",
            "Requirement already satisfied: urllib3!=1.25.0,!=1.25.1,<1.26,>=1.21.1 in /usr/local/lib/python3.6/dist-packages (from requests->lightfm) (1.24.3)\n",
            "Requirement already satisfied: joblib>=0.11 in /usr/local/lib/python3.6/dist-packages (from scikit-learn->lightfm) (0.17.0)\n",
            "Building wheels for collected packages: lightfm\n",
            "  Building wheel for lightfm (setup.py) ... \u001b[?25l\u001b[?25hdone\n",
            "  Created wheel for lightfm: filename=lightfm-1.16-cp36-cp36m-linux_x86_64.whl size=704270 sha256=2899a3bd0ad607e41fa005a4e758ba6ac2ffac993e6fb7fb23d2e1a309822af7\n",
            "  Stored in directory: /root/.cache/pip/wheels/c6/64/d4/673c7277f71ac4c5ad4835b94708c01b653ef2d3aa78ef20aa\n",
            "Successfully built lightfm\n",
            "Installing collected packages: lightfm\n",
            "Successfully installed lightfm-1.16\n"
          ],
          "name": "stdout"
        }
      ]
    },
    {
      "cell_type": "code",
      "metadata": {
        "id": "vXjp89Y97EQ6"
      },
      "source": [
        "path = \"https://raw.githubusercontent.com/aztgmb/Recommender_System/master/new_data_merged(1).csv\"\n",
        "data = pd.read_csv(path)\n",
        "data = data.drop(data.columns[0],axis=1)"
      ],
      "execution_count": null,
      "outputs": []
    },
    {
      "cell_type": "code",
      "metadata": {
        "id": "Ewv_DKUv7Eph"
      },
      "source": [
        "ratings = data[['overall', 'userID', 'itemID']]"
      ],
      "execution_count": null,
      "outputs": []
    },
    {
      "cell_type": "code",
      "metadata": {
        "id": "7MXGK51E_ln3"
      },
      "source": [
        "def get_interactions_matrix(df):\n",
        "    sparse_data = sparse.csr_matrix((df['overall'], (df['userID'], df['itemID'])))\n",
        "    return sparse_data\n",
        "train, test = train_test_split(ratings, test_size=0.5, random_state=100)"
      ],
      "execution_count": null,
      "outputs": []
    },
    {
      "cell_type": "code",
      "metadata": {
        "colab": {
          "base_uri": "https://localhost:8080/"
        },
        "id": "QGRCzKxs_mei",
        "outputId": "c2240434-70e0-42d0-d9c9-3e4c4b5505ff"
      },
      "source": [
        "train_sparse_data = get_interactions_matrix(train)\n",
        "test_sparse_data = get_interactions_matrix(test)\n",
        "# to make both sparse matrices the same size for compatability in lightFM\n",
        "test_sparse_data_old=test_sparse_data\n",
        "test_sparse_data = test_sparse_data[:126998,:]\n",
        "print(train_sparse_data.shape)\n",
        "print(test_sparse_data.shape)\n",
        "print(test_sparse_data_old.shape)"
      ],
      "execution_count": null,
      "outputs": [
        {
          "output_type": "stream",
          "text": [
            "(126998, 65969)\n",
            "(126998, 65969)\n",
            "(127006, 65969)\n"
          ],
          "name": "stdout"
        }
      ]
    },
    {
      "cell_type": "code",
      "metadata": {
        "id": "tLt9wXd9_m14"
      },
      "source": [
        "model = LightFM(loss='warp', random_state=100, learning_rate=0.01,learning_schedule='adagrad', no_components=30)\n",
        "model = model.fit(train_sparse_data, epochs=50, num_threads=10, verbose=False)"
      ],
      "execution_count": null,
      "outputs": []
    },
    {
      "cell_type": "code",
      "metadata": {
        "colab": {
          "base_uri": "https://localhost:8080/"
        },
        "id": "qgdw1e0hArHS",
        "outputId": "34a83b99-3011-4264-b26b-27ba02c16c1c"
      },
      "source": [
        "from lightfm.evaluation import auc_score\n",
        "from lightfm.evaluation import precision_at_k\n",
        "from lightfm.evaluation import recall_at_k\n",
        "train_auc = auc_score(model, train_sparse_data, num_threads=10).mean()\n",
        "print('Collaborative filtering train AUC: %s' % train_auc)\n",
        "test_auc = auc_score(model, test_sparse_data,  num_threads=10).mean()\n",
        "print('Collaborative filtering test AUC: %s' % test_auc)\n",
        "prec_at_k = precision_at_k(model, test_sparse_data,  num_threads=10,k=3).mean()\n",
        "print('Collaborative filtering test precision at 3: %s' % prec_at_k)\n",
        "recall_at_k = recall_at_k(model, test_sparse_data,  num_threads=10, k=3).mean()\n",
        "print('Collaborative filtering test recall at 3: %s' % recall_at_k)"
      ],
      "execution_count": null,
      "outputs": [
        {
          "output_type": "stream",
          "text": [
            "Collaborative filtering train AUC: 0.99989\n",
            "Collaborative filtering test AUC: 0.95163643\n",
            "Collaborative filtering test precision at 3: 0.10690122\n",
            "Collaborative filtering test recall at 3: 0.22227353965904173\n"
          ],
          "name": "stdout"
        }
      ]
    },
    {
      "cell_type": "code",
      "metadata": {
        "id": "UWob0xt07FML"
      },
      "source": [
        "def get_recommendations(model, data, userIDs):\n",
        "    users, items = data.shape\n",
        "    for userID in userIDs:\n",
        "        listened = data[userID].indices\n",
        "        \n",
        "        scores = model.predict(userID, np.arange(items))\n",
        "\n",
        "        top_items = np.argsort(-scores)\n",
        "\n",
        "        print(\"User %s\" % userID)\n",
        "        print(\"     Already listened:\")\n",
        "        \n",
        "        for x in listened[:3]:\n",
        "            print(\"        %s\" % x)\n",
        "        \n",
        "        print(\"     Recommended:\")\n",
        "        \n",
        "        for x in top_items[:3]:\n",
        "            print(\"        %s\" % x)"
      ],
      "execution_count": null,
      "outputs": []
    },
    {
      "cell_type": "code",
      "metadata": {
        "colab": {
          "base_uri": "https://localhost:8080/"
        },
        "id": "OeLWdQ4zAHug",
        "outputId": "4859eeac-7b53-4383-eefb-8ce457159a4d"
      },
      "source": [
        "userIDs = [98150, 16758,117479]\n",
        "get_recommendations(model, test_sparse_data , userIDs)"
      ],
      "execution_count": null,
      "outputs": [
        {
          "output_type": "stream",
          "text": [
            "User 98150\n",
            "     Already listened:\n",
            "     Recommended:\n",
            "        8589\n",
            "        7057\n",
            "        46357\n",
            "User 16758\n",
            "     Already listened:\n",
            "        8823\n",
            "     Recommended:\n",
            "        8823\n",
            "        58447\n",
            "        2516\n",
            "User 117479\n",
            "     Already listened:\n",
            "        5146\n",
            "        9970\n",
            "        11325\n",
            "     Recommended:\n",
            "        9970\n",
            "        22164\n",
            "        11345\n"
          ],
          "name": "stdout"
        }
      ]
    },
    {
      "cell_type": "code",
      "metadata": {
        "id": "02y8Fj-mAIUb"
      },
      "source": [
        "from surprise.model_selection.validation import cross_validate\n",
        "from surprise.model_selection.search import GridSearchCV\n",
        "from surprise.prediction_algorithms import SVD\n",
        "from surprise import Dataset\n",
        "from surprise import Reader\n",
        "from surprise.model_selection import GridSearchCV\n",
        "from surprise.model_selection import cross_validate\n",
        "from surprise import accuracy"
      ],
      "execution_count": null,
      "outputs": []
    },
    {
      "cell_type": "code",
      "metadata": {
        "id": "jIosRBJ1AIku"
      },
      "source": [
        "train1, test1 = train_test_split(ratings, test_size=0.2, random_state=100)"
      ],
      "execution_count": null,
      "outputs": []
    },
    {
      "cell_type": "code",
      "metadata": {
        "id": "ZweazpunH_71"
      },
      "source": [
        "from surprise import SVD\n",
        "from surprise.model_selection import GridSearchCV\n",
        "reader = Reader(rating_scale=(1, 5))\n",
        "data_train = Dataset.load_from_df(train1[['userID', 'itemID', 'overall']], reader)\n",
        "data_test = Dataset.load_from_df(test1[['userID', 'itemID', 'overall']], reader)\n",
        "trainset = data_train.build_full_trainset()\n",
        "testset1 = data_test.build_full_trainset()\n",
        "testset2 = testset1.build_anti_testset()\n",
        "pgrid = {'n_factors':[50,100,150],'n_epochs':[30,50,100],  'lr_all':[0.01,0.05,0.1],'reg_all':[0.1,0.2, 0.5]}\n",
        "grid = GridSearchCV(SVD, pgrid, measures=['rmse'], n_jobs=-1, cv=10)\n",
        "grid.fit(data_train)\n",
        "parameters = grid.best_params['rmse']\n",
        "svdopt = SVD(n_factors=parameters['n_factors'], n_epochs=parameters['n_epochs'],lr_all=parameters['lr_all'], reg_all=parameters['reg_all'])"
      ],
      "execution_count": null,
      "outputs": []
    },
    {
      "cell_type": "code",
      "metadata": {
        "colab": {
          "base_uri": "https://localhost:8080/"
        },
        "id": "Mb9z1nDxNrzp",
        "outputId": "4467c90d-c99b-48c2-8f28-c3a7e640024b"
      },
      "source": [
        "print(parameters)"
      ],
      "execution_count": null,
      "outputs": [
        {
          "output_type": "stream",
          "text": [
            "{'n_factors': 150, 'n_epochs': 30, 'lr_all': 0.05, 'reg_all': 0.1}\n"
          ],
          "name": "stdout"
        }
      ]
    },
    {
      "cell_type": "code",
      "metadata": {
        "colab": {
          "base_uri": "https://localhost:8080/"
        },
        "id": "krQ0am4iWk5_",
        "outputId": "e3efbd62-3d56-4e3f-f45b-a25f854d9506"
      },
      "source": [
        "svdeval = SVD(n_factors=100,n_epochs=30,lr_all=0.05,reg_all=0.1)\n",
        "svdeval.fit(trainset)\n",
        "pred = svdeval.test(testset2)\n",
        "accuracy.rmse(pred)"
      ],
      "execution_count": null,
      "outputs": [
        {
          "output_type": "stream",
          "text": [
            "RMSE: 0.4146\n"
          ],
          "name": "stdout"
        },
        {
          "output_type": "execute_result",
          "data": {
            "text/plain": [
              "0.4146196024741164"
            ]
          },
          "metadata": {
            "tags": []
          },
          "execution_count": 40
        }
      ]
    },
    {
      "cell_type": "code",
      "metadata": {
        "id": "Uk78A65fIAeR"
      },
      "source": [
        "from surprise import CoClustering\n",
        "pgrid1 = {'n_cltr_u':[3,5,7],'n_cltr_i':[3,5,7], 'n_epochs':[30,50,100]}\n",
        "grid1 = GridSearchCV(CoClustering, pgrid1, measures=['rmse'], n_jobs=-1, cv=10)\n",
        "grid1.fit(data_train)\n",
        "parameters1 = grid1.best_params['rmse']\n",
        "coclusteropt = CoClustering(n_cltr_u=parameters1['n_cltr_u'], n_cltr_i=parameters1['n_cltr_i'],n_epochs=parameters['n_epochs'])"
      ],
      "execution_count": null,
      "outputs": []
    },
    {
      "cell_type": "code",
      "metadata": {
        "colab": {
          "base_uri": "https://localhost:8080/"
        },
        "id": "bmawUcWIOQ46",
        "outputId": "1c15f047-b1ed-4c18-b0eb-f0bb00c5932a"
      },
      "source": [
        "print(parameters1)"
      ],
      "execution_count": null,
      "outputs": [
        {
          "output_type": "stream",
          "text": [
            "{'n_cltr_u': 7, 'n_cltr_i': 7, 'n_epochs': 30}\n"
          ],
          "name": "stdout"
        }
      ]
    },
    {
      "cell_type": "code",
      "metadata": {
        "colab": {
          "base_uri": "https://localhost:8080/"
        },
        "id": "zGnKNHjm63oo",
        "outputId": "b6932fdd-3c8e-44f3-8566-fe78c0aa8abd"
      },
      "source": [
        "coclusteval = CoClustering(n_cltr_u=7,n_cltr_i=7,n_epochs=30)\n",
        "coclusteval.fit(trainset)\n",
        "pred1 = coclusteval.test(testset2)\n",
        "accuracy.rmse(pred1)"
      ],
      "execution_count": null,
      "outputs": [
        {
          "output_type": "stream",
          "text": [
            "RMSE: 0.7898\n"
          ],
          "name": "stdout"
        },
        {
          "output_type": "execute_result",
          "data": {
            "text/plain": [
              "0.789849035975243"
            ]
          },
          "metadata": {
            "tags": []
          },
          "execution_count": 44
        }
      ]
    }
  ]
}